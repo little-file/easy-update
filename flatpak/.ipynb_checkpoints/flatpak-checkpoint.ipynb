{
 "cells": [
  {
   "cell_type": "code",
   "execution_count": 1,
   "id": "c783379c-9efc-4c03-9850-836bc4089483",
   "metadata": {},
   "outputs": [
    {
     "name": "stdout",
     "output_type": "stream",
     "text": [
      "hello world\n"
     ]
    }
   ],
   "source": [
    "import os\n",
    "print(\"hello world\")\n",
    "x = True"
   ]
  },
  {
   "cell_type": "code",
   "execution_count": 2,
   "id": "5878dbff-9abc-4bbd-9dd5-cbcebc7d0dc3",
   "metadata": {},
   "outputs": [],
   "source": [
    "def flatpakup(x = True):\n",
    "    while x == True:\n",
    "        y = input(\"y/n\")\n",
    "        if y == \"n\":\n",
    "            x = False\n",
    "        if y ==\"no\":\n",
    "            x = False\n",
    "        if y == \"y\":\n",
    "            os.system(\"flatpak update -y\")\n",
    "        if y == \"yes\":\n",
    "            os.system(\"flatpak update -y\")"
   ]
  },
  {
   "cell_type": "code",
   "execution_count": 3,
   "id": "6930cebe-2c12-47a2-829e-6aacaad42aa5",
   "metadata": {},
   "outputs": [],
   "source": [
    "def flatpakin(x = True):\n",
    "    while x == True:\n",
    "        y = input(\"y/n\")\n",
    "        if y == \"n\":\n",
    "            x = False\n",
    "        if y == \"no\":\n",
    "            x = False\n",
    "        if y == \"y\":\n",
    "            c = input(\"apps/app name\")\n",
    "            os.system(\"flatpak install -y \",+c)\n",
    "        if y == \"yes\":\n",
    "            c = input(\"apps/app name\")\n",
    "            os.system(\"flatpak install -y \",+c)"
   ]
  },
  {
   "cell_type": "code",
   "execution_count": 4,
   "id": "7eed0597-6a86-44e8-9e54-15014c035efd",
   "metadata": {},
   "outputs": [],
   "source": [
    "def flatpakremove(x = True):\n",
    "    while x == True:\n",
    "        y = input(\"y/n\")\n",
    "        if y == \"n\":\n",
    "            x = False\n",
    "        if y == \"no\":\n",
    "            x = False\n",
    "        if y == \"y\":\n",
    "            c = input(\"apps/app name\")\n",
    "            os.system(\"flatpak remove -y \",+c)\n",
    "        if y == \"yes\":\n",
    "            c = input(\"apps/app name\")\n",
    "            os.system(\"flatpak remove -y \",+c)"
   ]
  },
  {
   "cell_type": "code",
   "execution_count": 5,
   "id": "04927d9b-e58d-43b0-95aa-3720835aa200",
   "metadata": {},
   "outputs": [],
   "source": [
    "def flatpaksearch(x = True):\n",
    "    while x == True:\n",
    "        y = input(\"y/n\")\n",
    "        if y == \"n\":\n",
    "            x = False\n",
    "        if y == \"no\":\n",
    "            x = False\n",
    "        if y == \"y\":\n",
    "            c = input(\"apps/app name\")\n",
    "            os.system(\"flatpak search \",+c)\n",
    "        if y == \"yes\":\n",
    "            c = input(\"apps/app name\")\n",
    "            os.system(\"flatpak search \",+c)"
   ]
  },
  {
   "cell_type": "code",
   "execution_count": 6,
   "id": "026411c3-f2e1-4144-9499-a2ad91244cc7",
   "metadata": {},
   "outputs": [
    {
     "name": "stdout",
     "output_type": "stream",
     "text": [
      "\n",
      "    [1]flatpak update\n",
      "    [2]flatpak install\n",
      "    [3]flatpak remove\n",
      "    [4]flatpak search\n",
      "    [5]quit\n",
      "    \n"
     ]
    },
    {
     "name": "stdin",
     "output_type": "stream",
     "text": [
      "pls number:  5\n"
     ]
    }
   ],
   "source": [
    "while x == True:\n",
    "    print(\"\"\"\n",
    "    [1]flatpak update\n",
    "    [2]flatpak install\n",
    "    [3]flatpak remove\n",
    "    [4]flatpak search\n",
    "    [5]quit\n",
    "    \"\"\")\n",
    "    n = int(input(\"pls number: \"))\n",
    "    if n == 1:\n",
    "        flatpakup()\n",
    "    if n == 2:\n",
    "        flatpakin\n",
    "    if n == 3:\n",
    "        flatpakremove()\n",
    "    if n == 4:\n",
    "        flatpaksearch()\n",
    "    if n == 5:\n",
    "        x = False"
   ]
  }
 ],
 "metadata": {
  "kernelspec": {
   "display_name": "Python 3 (ipykernel)",
   "language": "python",
   "name": "python3"
  },
  "language_info": {
   "codemirror_mode": {
    "name": "ipython",
    "version": 3
   },
   "file_extension": ".py",
   "mimetype": "text/x-python",
   "name": "python",
   "nbconvert_exporter": "python",
   "pygments_lexer": "ipython3",
   "version": "3.9.13"
  }
 },
 "nbformat": 4,
 "nbformat_minor": 5
}
