{
 "cells": [
  {
   "cell_type": "code",
   "execution_count": 25,
   "id": "c783379c-9efc-4c03-9850-836bc4089483",
   "metadata": {
    "scrolled": true
   },
   "outputs": [
    {
     "name": "stdout",
     "output_type": "stream",
     "text": [
      "hello world\n"
     ]
    }
   ],
   "source": [
    "import os\n",
    "print(\"hello world\")\n",
    "x = True"
   ]
  },
  {
   "cell_type": "code",
   "execution_count": 26,
   "id": "5878dbff-9abc-4bbd-9dd5-cbcebc7d0dc3",
   "metadata": {},
   "outputs": [],
   "source": [
    "def flatpakup(x = True):\n",
    "    while x == True:\n",
    "        z = input(\"y/n: \")\n",
    "        if z == \"n\":\n",
    "           x = False\n",
    "      \n",
    "        if z == \"y\":\n",
    "            os.system(\"flatpak update -y\")\n",
    "            print(\"done\")\n",
    "            x = False"
   ]
  },
  {
   "cell_type": "code",
   "execution_count": 27,
   "id": "6930cebe-2c12-47a2-829e-6aacaad42aa5",
   "metadata": {},
   "outputs": [],
   "source": [
    "def flatpakin(x = True):\n",
    "    while x == True:\n",
    "        z = input(\"app name: \")\n",
    "        print(\"flatpak install -y\", z)\n",
    "        y = input(\"do you approve ? y/n: \")\n",
    "        if y == \"y\":\n",
    "            os.system(\"flatpak install -y \"+ z)\n",
    "        if y == \"n\":\n",
    "            x = False"
   ]
  },
  {
   "cell_type": "code",
   "execution_count": 28,
   "id": "7eed0597-6a86-44e8-9e54-15014c035efd",
   "metadata": {},
   "outputs": [],
   "source": [
    "def flatpakremove(x = True):\n",
    "    while x == True:\n",
    "        z = input(\"app name: \")\n",
    "        print(\"flatpak remove -y\", z)\n",
    "        y = input(\"do you approve ? y/n: \")\n",
    "        if y == \"y\":\n",
    "            os.system(\"flatpak remove -y \"+ z)\n",
    "        if y == \"n\":\n",
    "            x = False"
   ]
  },
  {
   "cell_type": "code",
   "execution_count": 29,
   "id": "04927d9b-e58d-43b0-95aa-3720835aa200",
   "metadata": {},
   "outputs": [],
   "source": [
    "def flatpaksearch(x = True):\n",
    "    while x == True:\n",
    "        z = input(\"app name: \")\n",
    "        print(\"flatpak search\", z)\n",
    "        y = input(\"do you approve ? y/n: \")\n",
    "        if y == \"y\":\n",
    "            os.system(\"flatpak search \"+ z)\n",
    "        if y == \"n\":\n",
    "            x = False"
   ]
  },
  {
   "cell_type": "code",
   "execution_count": 30,
   "id": "026411c3-f2e1-4144-9499-a2ad91244cc7",
   "metadata": {},
   "outputs": [
    {
     "name": "stdout",
     "output_type": "stream",
     "text": [
      "\n",
      "    [1]flatpak update\n",
      "    [2]flatpak install\n",
      "    [3]flatpak remove\n",
      "    [4]flatpak search\n",
      "    [5]quit\n",
      "    \n",
      "pls number: 2\n",
      "y/ny\n",
      "apps/app nameextension\n"
     ]
    },
    {
     "ename": "TypeError",
     "evalue": "bad operand type for unary +: 'str'",
     "output_type": "error",
     "traceback": [
      "\u001b[0;31m---------------------------------------------------------------------------\u001b[0m",
      "\u001b[0;31mTypeError\u001b[0m                                 Traceback (most recent call last)",
      "Cell \u001b[0;32mIn[30], line 13\u001b[0m\n\u001b[1;32m     11\u001b[0m     flatpakup()\n\u001b[1;32m     12\u001b[0m \u001b[38;5;28;01mif\u001b[39;00m n \u001b[38;5;241m==\u001b[39m \u001b[38;5;241m2\u001b[39m:\n\u001b[0;32m---> 13\u001b[0m     \u001b[43mflatpakin\u001b[49m\u001b[43m(\u001b[49m\u001b[43m)\u001b[49m\n\u001b[1;32m     14\u001b[0m \u001b[38;5;28;01mif\u001b[39;00m n \u001b[38;5;241m==\u001b[39m \u001b[38;5;241m3\u001b[39m:\n\u001b[1;32m     15\u001b[0m     flatpakremove()\n",
      "Cell \u001b[0;32mIn[27], line 10\u001b[0m, in \u001b[0;36mflatpakin\u001b[0;34m(x)\u001b[0m\n\u001b[1;32m      8\u001b[0m \u001b[38;5;28;01mif\u001b[39;00m y \u001b[38;5;241m==\u001b[39m \u001b[38;5;124m\"\u001b[39m\u001b[38;5;124my\u001b[39m\u001b[38;5;124m\"\u001b[39m:\n\u001b[1;32m      9\u001b[0m     c \u001b[38;5;241m=\u001b[39m \u001b[38;5;28minput\u001b[39m(\u001b[38;5;124m\"\u001b[39m\u001b[38;5;124mapps/app name\u001b[39m\u001b[38;5;124m\"\u001b[39m)\n\u001b[0;32m---> 10\u001b[0m     os\u001b[38;5;241m.\u001b[39msystem(\u001b[38;5;124m\"\u001b[39m\u001b[38;5;124mflatpak install -y \u001b[39m\u001b[38;5;124m\"\u001b[39m,\u001b[38;5;241;43m+\u001b[39;49m\u001b[43mc\u001b[49m)\n\u001b[1;32m     11\u001b[0m \u001b[38;5;28;01mif\u001b[39;00m y \u001b[38;5;241m==\u001b[39m \u001b[38;5;124m\"\u001b[39m\u001b[38;5;124myes\u001b[39m\u001b[38;5;124m\"\u001b[39m:\n\u001b[1;32m     12\u001b[0m     c \u001b[38;5;241m=\u001b[39m \u001b[38;5;28minput\u001b[39m(\u001b[38;5;124m\"\u001b[39m\u001b[38;5;124mapps/app name\u001b[39m\u001b[38;5;124m\"\u001b[39m)\n",
      "\u001b[0;31mTypeError\u001b[0m: bad operand type for unary +: 'str'"
     ]
    }
   ],
   "source": [
    "while x == True:\n",
    "    print(\"\"\"\n",
    "    [1]flatpak update\n",
    "    [2]flatpak install\n",
    "    [3]flatpak remove\n",
    "    [4]flatpak search\n",
    "    [5]quit\n",
    "    \"\"\")\n",
    "    n = int(input(\"pls number: \"))\n",
    "    if n == 1:\n",
    "        flatpakup()\n",
    "    if n == 2:\n",
    "        flatpakin()\n",
    "    if n == 3:\n",
    "        flatpakremove()\n",
    "    if n == 4:\n",
    "        flatpaksearch()\n",
    "    if n == 5:\n",
    "        x = False"
   ]
  },
  {
   "cell_type": "code",
   "execution_count": null,
   "id": "8bdfdf1d",
   "metadata": {},
   "outputs": [],
   "source": []
  }
 ],
 "metadata": {
  "kernelspec": {
   "display_name": "Python 3 (ipykernel)",
   "language": "python",
   "name": "python3"
  },
  "language_info": {
   "codemirror_mode": {
    "name": "ipython",
    "version": 3
   },
   "file_extension": ".py",
   "mimetype": "text/x-python",
   "name": "python",
   "nbconvert_exporter": "python",
   "pygments_lexer": "ipython3",
   "version": "3.10.9"
  }
 },
 "nbformat": 4,
 "nbformat_minor": 5
}
